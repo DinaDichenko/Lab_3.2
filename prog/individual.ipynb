{
 "cells": [
  {
   "cell_type": "markdown",
   "metadata": {},
   "source": [
    "Индивидуальное задание (вариант 5):\n",
    "\n",
    "Дана целочисленная квадратная матрица. Определить:\n",
    "- сумму элементов в тех столбцах, которые не содержат отрицательных элементов;\n",
    "- минимум среди сумм модулей элементов диагоналей, параллельных побочной диагонали матрицы."
   ]
  },
  {
   "cell_type": "code",
   "execution_count": 12,
   "metadata": {},
   "outputs": [
    {
     "name": "stdout",
     "output_type": "stream",
     "text": [
      "Введите размерность матрицы: 5\n"
     ]
    }
   ],
   "source": [
    "import numpy as np\n",
    "\n",
    "k = int(input(\"Введите размерность матрицы: \"))\n",
    "matrix =  np.random.randint(-10, 20, size=(k, k))"
   ]
  },
  {
   "cell_type": "code",
   "execution_count": 13,
   "metadata": {},
   "outputs": [
    {
     "name": "stdout",
     "output_type": "stream",
     "text": [
      "Матрица:\n",
      " [[  9  -9   0  12   0]\n",
      " [ 11  14  -6 -10  -7]\n",
      " [  8  11  -7  11   2]\n",
      " [ 10   8  13  -2  12]\n",
      " [  9  13  15  12  12]]\n"
     ]
    }
   ],
   "source": [
    "print(\"Матрица:\\n\", matrix)"
   ]
  },
  {
   "cell_type": "code",
   "execution_count": 29,
   "metadata": {},
   "outputs": [
    {
     "name": "stdout",
     "output_type": "stream",
     "text": [
      "Столбцы, не содержащие отрицательные элементы:\n",
      " [[ 9]\n",
      " [11]\n",
      " [ 8]\n",
      " [10]\n",
      " [ 9]]\n"
     ]
    }
   ],
   "source": [
    "print(\"Столбцы, не содержащие отрицательные элементы:\\n\", matrix[:, matrix.min(axis=0) > 0])"
   ]
  },
  {
   "cell_type": "code",
   "execution_count": 31,
   "metadata": {},
   "outputs": [
    {
     "name": "stdout",
     "output_type": "stream",
     "text": [
      "Сумма элементов в столбцах, которые не содержат отрицательные элементы: 47\n"
     ]
    }
   ],
   "source": [
    "sumP = np.sum(matrix[:, matrix.min(axis=0) > 0])\n",
    "print(\"Сумма элементов в столбцах, которые не содержат отрицательные элементы:\", sumP)"
   ]
  },
  {
   "cell_type": "code",
   "execution_count": 63,
   "metadata": {},
   "outputs": [
    {
     "name": "stdout",
     "output_type": "stream",
     "text": [
      "Отзеркаленная матрица модулей элементов\n",
      " [[ 0 12  0  9  9]\n",
      " [ 7 10  6 14 11]\n",
      " [ 2 11  7 11  8]\n",
      " [12  2 13  8 10]\n",
      " [12 12 15 13  9]]\n"
     ]
    }
   ],
   "source": [
    "mod = np.fliplr(np.absolute(matrix))\n",
    "print(\"Отзеркаленная матрица модулей элементов\\n\", mod)"
   ]
  },
  {
   "cell_type": "code",
   "execution_count": 78,
   "metadata": {},
   "outputs": [
    {
     "name": "stdout",
     "output_type": "stream",
     "text": [
      "Mинимум среди сумм модулей элементов диагоналей, параллельных побочной диагонали матрицы:  9\n"
     ]
    }
   ],
   "source": [
    "a = min([mod.trace(offset=i) for i in np.arange(1-k, k)])\n",
    "print(\"Mинимум среди сумм модулей элементов диагоналей, параллельных побочной диагонали матрицы: \", a)"
   ]
  }
 ],
 "metadata": {
  "kernelspec": {
   "display_name": "Python 3 (ipykernel)",
   "language": "python",
   "name": "python3"
  },
  "language_info": {
   "codemirror_mode": {
    "name": "ipython",
    "version": 3
   },
   "file_extension": ".py",
   "mimetype": "text/x-python",
   "name": "python",
   "nbconvert_exporter": "python",
   "pygments_lexer": "ipython3",
   "version": "3.11.3"
  }
 },
 "nbformat": 4,
 "nbformat_minor": 4
}
