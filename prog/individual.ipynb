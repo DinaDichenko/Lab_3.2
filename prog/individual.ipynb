{
 "cells": [
  {
   "cell_type": "markdown",
   "metadata": {},
   "source": [
    "Индивидуальное задание: \n",
    "\n",
    "Для заданной матрицы размером 8 на 8 найти такие k, что k-я строка матрицы совпадает k-м столбцом. Найти сумму элементов в тех строках, которые содержат хотя бы один отрицательный элемент."
   ]
  },
  {
   "cell_type": "code",
   "execution_count": 27,
   "metadata": {},
   "outputs": [
    {
     "name": "stdout",
     "output_type": "stream",
     "text": [
      "Введите числа 1 строки (через пробел): 1 2 3 4 5 6 7 8\n",
      "Введите числа 2 строки (через пробел): 2 -3 4 -5 6 -7 8 -1\n",
      "Введите числа 3 строки (через пробел): 2 3 1 4 6 5 8 7\n",
      "Введите числа 4 строки (через пробел): -1 2 3 2 3 4 -2 3\n",
      "Введите числа 5 строки (через пробел): 8 9 10 2 12 4 8 2\n",
      "Введите числа 6 строки (через пробел): 3 11 7 8 0 9 23 4\n",
      "Введите числа 7 строки (через пробел): 1 5 6 7 9 12 3 5\n",
      "Введите числа 8 строки (через пробел): 11 10 9 -3 4 10 5 4\n"
     ]
    }
   ],
   "source": [
    "import numpy as np\n",
    "\n",
    "s1 = np.array(input(\"Введите числа 1 строки (через пробел): \").split())\n",
    "s2 = np.array(input(\"Введите числа 2 строки (через пробел): \").split())\n",
    "s3 = np.array(input(\"Введите числа 3 строки (через пробел): \").split())\n",
    "s4 = np.array(input(\"Введите числа 4 строки (через пробел): \").split())\n",
    "s5 = np.array(input(\"Введите числа 5 строки (через пробел): \").split())\n",
    "s6 = np.array(input(\"Введите числа 6 строки (через пробел): \").split())\n",
    "s7 = np.array(input(\"Введите числа 7 строки (через пробел): \").split())\n",
    "s8 = np.array(input(\"Введите числа 8 строки (через пробел): \").split())"
   ]
  },
  {
   "cell_type": "code",
   "execution_count": 33,
   "metadata": {},
   "outputs": [
    {
     "name": "stdout",
     "output_type": "stream",
     "text": [
      "[['1' '2' '3' '4' '5' '6' '7' '8']\n",
      " ['2' '-3' '4' '-5' '6' '-7' '8' '-1']\n",
      " ['2' '3' '1' '4' '6' '5' '8' '7']\n",
      " ['-1' '2' '3' '2' '3' '4' '-2' '3']\n",
      " ['8' '9' '10' '2' '12' '4' '8' '2']\n",
      " ['3' '11' '7' '8' '0' '9' '23' '4']\n",
      " ['1' '5' '6' '7' '9' '12' '3' '5']\n",
      " ['11' '10' '9' '-3' '4' '10' '5' '4']]\n"
     ]
    }
   ],
   "source": [
    "a = [s1, s2, s3, s4,s5,s6,s7,s8]\n",
    "mas = np.matrix(a)\n",
    "print(mas)"
   ]
  },
  {
   "cell_type": "code",
   "execution_count": null,
   "metadata": {},
   "outputs": [],
   "source": []
  }
 ],
 "metadata": {
  "kernelspec": {
   "display_name": "Python 3",
   "language": "python",
   "name": "python3"
  },
  "language_info": {
   "codemirror_mode": {
    "name": "ipython",
    "version": 3
   },
   "file_extension": ".py",
   "mimetype": "text/x-python",
   "name": "python",
   "nbconvert_exporter": "python",
   "pygments_lexer": "ipython3",
   "version": "3.8.3"
  }
 },
 "nbformat": 4,
 "nbformat_minor": 4
}
