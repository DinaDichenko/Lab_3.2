{
 "cells": [
  {
   "cell_type": "markdown",
   "id": "27e6a59b",
   "metadata": {},
   "source": [
    "# Высчитать среднеквадратическую ошибку\n",
    "\n",
    "Вычислить разницу между прогнозируемым значением оценок и истинным, с помощью возведенная в квадрат и усредненная по всему набору данных. \n",
    "\n",
    "\n",
    "$$MSE=\\frac{1}{n}\\sum_{i=1}^{n}(y_{true}-y_{pred})^{2}$$\n",
    "n - число рассматриваемых объектов, которое в нашем случае равно 50.\n",
    "\n",
    "y - переменные, которые будут предсказаны. В нашем случае это оценка ученика\n",
    "\n",
    "ytrue - истинное значение переменной, то есть так называемый правильный ответ. \n",
    "\n",
    "ypred - предполагаемое значение переменной."
   ]
  },
  {
   "cell_type": "code",
   "execution_count": 9,
   "id": "27991004",
   "metadata": {},
   "outputs": [],
   "source": [
    "import numpy as np"
   ]
  },
  {
   "cell_type": "markdown",
   "id": "40208cb2",
   "metadata": {},
   "source": [
    "y_true и ypred являются массивами numpy с одинаковой длиной\n",
    "\n",
    "mean() возвращает среднее значение набора данных"
   ]
  },
  {
   "cell_type": "code",
   "execution_count": 23,
   "id": "d7da4050",
   "metadata": {},
   "outputs": [],
   "source": [
    "def mse_loss(y_true, ypred):\n",
    "    return ((y_true - ypred) ** 2).mean()\n",
    "\n",
    "y_true=np.random.randint(1,5,50)\n",
    "ypred=np.random.randint(1,5,50)"
   ]
  },
  {
   "cell_type": "code",
   "execution_count": 24,
   "id": "b340e333",
   "metadata": {},
   "outputs": [
    {
     "name": "stdout",
     "output_type": "stream",
     "text": [
      "Прогнозируемые значения:  [3 1 1 1 4 4 3 3 3 1 2 4 4 2 3 3 1 4 4 4 1 1 1 3 2 3 4 2 3 2 2 3 2 1 2 1 3\n",
      " 1 3 1 1 3 2 1 3 4 2 4 1 4]\n",
      "Среднеее прогнозируемых значений:  2.42\n",
      "Истинные значения:  [4 4 3 3 2 1 1 3 3 2 1 1 2 1 2 4 1 2 2 3 2 1 2 2 3 3 4 2 3 2 4 4 4 2 3 3 1\n",
      " 2 3 3 2 2 3 2 2 2 3 2 1 4]\n",
      "Среднее рогнозируемых значений:  2.42\n",
      "Cреднеквадратическая ошибка:  2.08\n"
     ]
    }
   ],
   "source": [
    "print(\"Прогнозируемые значения: \", ypred)\n",
    "print(\"Среднеее прогнозируемых значений: \", ypred.mean())\n",
    "print(\"Истинные значения: \", y_true)\n",
    "print(\"Среднее рогнозируемых значений: \", ypred.mean())\n",
    "print(\"Cреднеквадратическая ошибка: \", mse_loss(y_true, ypred))"
   ]
  }
 ],
 "metadata": {
  "kernelspec": {
   "display_name": "Python 3 (ipykernel)",
   "language": "python",
   "name": "python3"
  },
  "language_info": {
   "codemirror_mode": {
    "name": "ipython",
    "version": 3
   },
   "file_extension": ".py",
   "mimetype": "text/x-python",
   "name": "python",
   "nbconvert_exporter": "python",
   "pygments_lexer": "ipython3",
   "version": "3.11.3"
  }
 },
 "nbformat": 4,
 "nbformat_minor": 5
}
