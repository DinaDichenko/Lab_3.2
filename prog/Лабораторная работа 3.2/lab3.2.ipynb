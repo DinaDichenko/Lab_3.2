{
 "cells": [
  {
   "cell_type": "markdown",
   "metadata": {},
   "source": [
    "\n",
    "\n",
    "# Лабораторная работа 3.2. Знакомство с NumPy\n",
    "Библиотека NumPy -- быстрая библиотека для математики в Python, основная структура данных -- массив `numpy.array`:"
   ]
  },
  {
   "cell_type": "markdown",
   "metadata": {},
   "source": [
    "![](https://media.giphy.com/media/3o7btPCcdNniyf0ArS/giphy.gif)"
   ]
  },
  {
   "cell_type": "code",
   "execution_count": null,
   "metadata": {
    "collapsed": true,
    "jupyter": {
     "outputs_hidden": true
    }
   },
   "outputs": [],
   "source": [
    "# подключение модуля numpy под именем np\n",
    "import numpy as np"
   ]
  },
  {
   "cell_type": "code",
   "execution_count": 6,
   "metadata": {},
   "outputs": [
    {
     "name": "stdout",
     "output_type": "stream",
     "text": [
      "a = [1 2 3 4 5]\n",
      "b = [0.1 0.2 0.3 0.4 0.5]\n"
     ]
    }
   ],
   "source": [
    "# основная структура данных - массив\n",
    "a = np.array([1, 2, 3, 4, 5])\n",
    "b = np.array([0.1, 0.2, 0.3, 0.4, 0.5])\n",
    "\n",
    "print(\"a =\", a)\n",
    "print(\"b =\", b)"
   ]
  },
  {
   "cell_type": "markdown",
   "metadata": {},
   "source": [
    "Создайте массив с 5 любыми числами:"
   ]
  },
  {
   "cell_type": "code",
   "execution_count": 9,
   "metadata": {},
   "outputs": [
    {
     "name": "stdout",
     "output_type": "stream",
     "text": [
      "[1 2 3 4 5]\n"
     ]
    }
   ],
   "source": [
    "a = np.array([1, 2, 3, 4, 5])\n",
    "\n",
    "print(a)"
   ]
  },
  {
   "cell_type": "markdown",
   "metadata": {},
   "source": [
    "Арифметические операции, в отличие от операций над списками, применяются поэлементно:"
   ]
  },
  {
   "cell_type": "code",
   "execution_count": 8,
   "metadata": {},
   "outputs": [
    {
     "name": "stdout",
     "output_type": "stream",
     "text": [
      "list1: [1, 2, 3]\n",
      "\tlist1 * 3: [1, 2, 3, 1, 2, 3, 1, 2, 3]\n",
      "\tlist1 + [1]: [1, 2, 3, 1]\n",
      "array1: [1 2 3]\n",
      "\tarray1 * 3: [3 6 9]\n",
      "\tarray1 + 1: [2 3 4]\n"
     ]
    }
   ],
   "source": [
    "list1 = [1, 2, 3]\n",
    "array1 = np.array([1, 2, 3])\n",
    "\n",
    "print(\"list1:\", list1)\n",
    "print('\\tlist1 * 3:', list1 * 3)\n",
    "print('\\tlist1 + [1]:', list1 + [1])\n",
    "\n",
    "print('array1:', array1)\n",
    "print('\\tarray1 * 3:', array1 * 3)\n",
    "print('\\tarray1 + 1:', array1 + 1)"
   ]
  },
  {
   "cell_type": "markdown",
   "metadata": {},
   "source": [
    "Создайте массив из 5 чисел. Возведите каждый элемент массива в степень 3"
   ]
  },
  {
   "cell_type": "code",
   "execution_count": 10,
   "metadata": {
    "jupyter": {
     "outputs_hidden": true
    }
   },
   "outputs": [
    {
     "name": "stdout",
     "output_type": "stream",
     "text": [
      "[  1   8  27  64 125]\n"
     ]
    }
   ],
   "source": [
    "import math\n",
    "\n",
    "\n",
    "a = np.array([1, 2, 3, 4, 5])\n",
    "\n",
    "print(pow(a,3))"
   ]
  },
  {
   "cell_type": "markdown",
   "metadata": {},
   "source": [
    "Если в операции участвуют $2$ массива (по умолчанию -- одинакового размера), операции считаются для соответствующих пар:"
   ]
  },
  {
   "cell_type": "code",
   "execution_count": 11,
   "metadata": {},
   "outputs": [
    {
     "name": "stdout",
     "output_type": "stream",
     "text": [
      "a + b = [1.1 2.2 3.3 4.4 5.5]\n",
      "a * b = [0.1 0.4 0.9 1.6 2.5]\n"
     ]
    }
   ],
   "source": [
    "print(\"a + b =\", a + b)\n",
    "print(\"a * b =\", a * b)"
   ]
  },
  {
   "cell_type": "code",
   "execution_count": 12,
   "metadata": {
    "jupyter": {
     "outputs_hidden": true
    }
   },
   "outputs": [
    {
     "name": "stdout",
     "output_type": "stream",
     "text": [
      "a - b = [0.9 1.8 2.7 3.6 4.5]\n",
      "a / b = [10. 10. 10. 10. 10.]\n",
      "a // b = [ 9.  9. 10.  9. 10.]\n",
      "a ** 2 = [ 1  4  9 16 25]\n"
     ]
    }
   ],
   "source": [
    "# вот это разность\n",
    "print(\"a - b =\", a - b)\n",
    "\n",
    "# вот это деление\n",
    "print(\"a / b =\", a / b)\n",
    "\n",
    "# вот это целочисленное деление\n",
    "print(\"a // b =\", a // b)\n",
    "\n",
    "# вот это квадрат\n",
    "print(\"a ** 2 =\", a ** 2)"
   ]
  },
  {
   "cell_type": "markdown",
   "metadata": {},
   "source": [
    " Создайте два массива одинаковой длины. Выведите массив, полученный делением одного массива на другой."
   ]
  },
  {
   "cell_type": "code",
   "execution_count": 13,
   "metadata": {
    "jupyter": {
     "outputs_hidden": true
    }
   },
   "outputs": [
    {
     "name": "stdout",
     "output_type": "stream",
     "text": [
      "[10.  4.  3.  5. 10.]\n"
     ]
    }
   ],
   "source": [
    "a = np.array([10, 20, 30, 40, 50])\n",
    "b = np.array([1, 5, 10, 8, 5])\n",
    "\n",
    "print(a/b)"
   ]
  },
  {
   "cell_type": "markdown",
   "metadata": {},
   "source": [
    "#### *Л — логика*\n",
    "К элементам массива можно применять логические операции.\n",
    "\n",
    "Возвращаемое значение -- массив, содержащий результаты вычислений для каждого элемента (`True` -- \"да\" или `False` -- \"нет\"):"
   ]
  },
  {
   "cell_type": "code",
   "execution_count": 14,
   "metadata": {},
   "outputs": [
    {
     "name": "stdout",
     "output_type": "stream",
     "text": [
      "a = [10 20 30 40 50]\n",
      "\ta > 1:  [ True  True  True  True  True]\n",
      "\n",
      "b = [ 1  5 10  8  5]\n",
      "\tb < 0.5:   [False False False False False]\n",
      "\n",
      "Одновременная проверка условий:\n",
      "\t(a > 1) & (b < 0.5):   [False False False False False]\n",
      "А вот это проверяет, что a > 1 ИЛИ b < 0.5:   [ True  True  True  True  True]\n"
     ]
    }
   ],
   "source": [
    "print(\"a =\", a)\n",
    "print(\"\\ta > 1: \", a > 1)\n",
    "print(\"\\nb =\", b)\n",
    "print(\"\\tb < 0.5:  \", b < 0.5)\n",
    "\n",
    "print(\"\\nОдновременная проверка условий:\")\n",
    "print(\"\\t(a > 1) & (b < 0.5):  \", (a>1) & (b < 0.5))\n",
    "print(\"А вот это проверяет, что a > 1 ИЛИ b < 0.5:  \", (a > 1) | (b < 0.5))"
   ]
  },
  {
   "cell_type": "markdown",
   "metadata": {},
   "source": [
    "Создайте 2 массива из 5 элементов. Проверьте условие \"Элементы первого массива меньше 6, элементы второго массива делятся на 3\""
   ]
  },
  {
   "cell_type": "code",
   "execution_count": 18,
   "metadata": {
    "jupyter": {
     "outputs_hidden": true
    }
   },
   "outputs": [
    {
     "name": "stdout",
     "output_type": "stream",
     "text": [
      "mas1 =  [1 3 5 7 8]\n",
      "\tmas1 > 6:  [False False False  True  True]\n",
      "mas1 =  [1 3 5 7 8]\n",
      "\tmas2 % 3 == 0:  [False  True  True False False]\n"
     ]
    }
   ],
   "source": [
    "mas1 = np.array([1, 3, 5, 7, 8])\n",
    "mas2 = np.array([1, 3, 6, 8, 10])\n",
    "\n",
    "print(\"mas1 = \", mas1)\n",
    "print(\"\\tmas1 > 6: \", mas1 > 6)\n",
    "print(\"mas1 = \", mas1)\n",
    "print(\"\\tmas2 % 3 == 0: \", mas2 % 3 == 0)"
   ]
  },
  {
   "cell_type": "markdown",
   "metadata": {},
   "source": [
    "Теперь проверьте условие \"Элементы первого массива делятся на 2 или элементы второго массива больше 2\""
   ]
  },
  {
   "cell_type": "code",
   "execution_count": 19,
   "metadata": {
    "jupyter": {
     "outputs_hidden": true
    }
   },
   "outputs": [
    {
     "name": "stdout",
     "output_type": "stream",
     "text": [
      "А вот это проверяет, что mas1 > 6 ИЛИ mas2 % 3 == 0:   [False  True  True  True  True]\n"
     ]
    }
   ],
   "source": [
    "print(\"А вот это проверяет, что mas1 > 6 ИЛИ mas2 % 3 == 0:  \", (mas1 > 6) | (mas2 % 3 == 0))"
   ]
  },
  {
   "cell_type": "markdown",
   "metadata": {},
   "source": [
    "Зачем это нужно? Чтобы выбирать элементы массива, удовлетворяющие какому-нибудь условию:"
   ]
  },
  {
   "cell_type": "code",
   "execution_count": 24,
   "metadata": {},
   "outputs": [
    {
     "name": "stdout",
     "output_type": "stream",
     "text": [
      "a = [10 20 30 40 50]\n",
      "a > 2: [ True  True  True  True  True]\n",
      "a[a > 2]: [10 20 30 40 50]\n"
     ]
    }
   ],
   "source": [
    "print(\"a =\", a)\n",
    "print(\"a > 2:\", a > 2)\n",
    "# индексация - выбираем элементы из массива в тех позициях, где True\n",
    "print(\"a[a > 2]:\", a[a > 2])"
   ]
  },
  {
   "cell_type": "markdown",
   "metadata": {},
   "source": [
    "Создайте массив с элементами от 1 до 20. Выведите все элементы, которые больше 5 и не делятся на 2"
   ]
  },
  {
   "cell_type": "markdown",
   "metadata": {},
   "source": [
    "Подсказка: создать массив можно с помощью функции np.arange(), действие которой аналогично функции range, которую вы уже знаете."
   ]
  },
  {
   "cell_type": "code",
   "execution_count": 25,
   "metadata": {
    "jupyter": {
     "outputs_hidden": true
    }
   },
   "outputs": [
    {
     "name": "stdout",
     "output_type": "stream",
     "text": [
      "элементы, которые больше 5 и не делятся на 2:  [ 7  9 11 13 15 17 19]\n"
     ]
    }
   ],
   "source": [
    "mas = np.arange(20)+1\n",
    "\n",
    "print(\"элементы, которые больше 5 и не делятся на 2: \", mas[(mas > 5) & (mas % 2 != 0)])"
   ]
  },
  {
   "cell_type": "markdown",
   "metadata": {},
   "source": [
    "#### А ещё NumPy умеет...\n",
    "\n",
    "Все операции NumPy оптимизированы для быстрых вычислений над целыми массивами чисел и в методах `np.array` реализовано множество функций, которые могут вам понадобиться:"
   ]
  },
  {
   "cell_type": "code",
   "execution_count": 26,
   "metadata": {},
   "outputs": [
    {
     "name": "stdout",
     "output_type": "stream",
     "text": [
      "np.mean(a) = 30.0\n",
      "np.min(a) = 10\n",
      "np.argmin(a) = 0\n",
      "np.unique(['male', 'male', 'female', 'female', 'male']) = ['female' 'male']\n"
     ]
    }
   ],
   "source": [
    "# теперь можно считать средний размер котиков в одну строку!\n",
    "print(\"np.mean(a) =\", np.mean(a))\n",
    "# минимальный элемент\n",
    "print(\"np.min(a) =\", np.min(a))\n",
    "# индекс минимального элемента\n",
    "print(\"np.argmin(a) =\", np.argmin(a))\n",
    "# вывести значения массива без дубликатов\n",
    "print(\"np.unique(['male', 'male', 'female', 'female', 'male']) =\", np.unique(['male', 'male', 'female', 'female', 'male']))\n",
    "\n",
    "# и ещё много всяких методов\n",
    "# Google в помощь"
   ]
  },
  {
   "cell_type": "markdown",
   "metadata": {},
   "source": [
    "---\n",
    "\n",
    "---\n",
    "\n",
    "Пора еще немного потренироваться с NumPy.\n",
    "\n",
    "Выполните операции, перечисленные ниже:"
   ]
  },
  {
   "cell_type": "code",
   "execution_count": 28,
   "metadata": {
    "jupyter": {
     "outputs_hidden": true
    }
   },
   "outputs": [
    {
     "name": "stdout",
     "output_type": "stream",
     "text": [
      "a =  [10 20 30 40 50]\n",
      "b =  [ 1  5 10  8  5]\n",
      "Разность между a и b: [ 9 15 20 32 45]\n",
      "Квадраты элементов b: [  1  25 100  64  25]\n",
      "Половины произведений элементов массивов a и b: [  5.  50. 150. 160. 125.]\n",
      "\n",
      "Максимальный элемент b: 10\n",
      "Сумма элементов массива b: 29\n",
      "Индекс максимального элемента b: 2\n"
     ]
    }
   ],
   "source": [
    "print(\"a = \", a)\n",
    "print(\"b = \", b)\n",
    "print(\"Разность между a и b:\", a - b\n",
    "     )\n",
    "print(\"Квадраты элементов b:\", b**2\n",
    "     )\n",
    "print(\"Половины произведений элементов массивов a и b:\", a*b/2\n",
    "     )\n",
    "\n",
    "print()\n",
    "print(\"Максимальный элемент b:\", np.max(b)\n",
    "     )\n",
    "print(\"Сумма элементов массива b:\", np.sum(b)\n",
    "     )\n",
    "print(\"Индекс максимального элемента b:\", np.argmax(b)\n",
    "     )"
   ]
  },
  {
   "cell_type": "markdown",
   "metadata": {},
   "source": [
    " Задайте два массива: [5, 2, 3, 12, 4, 5]   и   ['f', 'o', 'o', 'b', 'a', 'r']"
   ]
  },
  {
   "cell_type": "markdown",
   "metadata": {},
   "source": [
    "Выведите буквы из второго массива, индексы которых соответствуют индексам чисел из первого массива, которые больше 1, меньше 5 и делятся на 2"
   ]
  },
  {
   "cell_type": "code",
   "execution_count": 34,
   "metadata": {},
   "outputs": [
    {
     "name": "stdout",
     "output_type": "stream",
     "text": [
      "['o' 'a']\n"
     ]
    }
   ],
   "source": [
    "m1 = np.array([5, 2, 3, 12, 4, 5])\n",
    "m2 = np.array(['f', 'o', 'o', 'b', 'a', 'r'])\n",
    "\n",
    "print(m2[m1[(m1 > 1) &(m1 < 5) & (m1 % 2 == 0)]])"
   ]
  }
 ],
 "metadata": {
  "kernelspec": {
   "display_name": "Python 3",
   "language": "python",
   "name": "python3"
  },
  "language_info": {
   "codemirror_mode": {
    "name": "ipython",
    "version": 3
   },
   "file_extension": ".py",
   "mimetype": "text/x-python",
   "name": "python",
   "nbconvert_exporter": "python",
   "pygments_lexer": "ipython3",
   "version": "3.8.3"
  },
  "name": "seminar1_python_intro_tools.ipynb"
 },
 "nbformat": 4,
 "nbformat_minor": 4
}
